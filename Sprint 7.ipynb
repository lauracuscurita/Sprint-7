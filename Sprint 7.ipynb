{
 "cells": [
  {
   "cell_type": "code",
   "execution_count": 1,
   "metadata": {},
   "outputs": [
    {
     "name": "stdout",
     "output_type": "stream",
     "text": [
      "Tu IMC es:  0.00\n"
     ]
    }
   ],
   "source": [
    "#Exercici 1\n",
    "peso = float(input(\"Introduce tu peso en kilos: \"))\n",
    "altura = float(input(\"Introduce tu altura en metros: \"))\n",
    "\n",
    "imc = peso / (altura ** 2)\n",
    "\n",
    "print(f\"Tu IMC es: {imc: .2f}\")"
   ]
  },
  {
   "cell_type": "code",
   "execution_count": 2,
   "metadata": {},
   "outputs": [
    {
     "name": "stdout",
     "output_type": "stream",
     "text": [
      "41.0 °C es igual a 105.80 °F\n",
      "41.0 °C es igual a 314.15 K\n"
     ]
    }
   ],
   "source": [
    "#Exercici 2\n",
    "\n",
    "#Definició funcions\n",
    "\n",
    "def celsius_a_fahrenheit(celsius):\n",
    "    return (celsius * 9/5) + 32\n",
    "\n",
    "def celsius_a_kelvin(celsius):\n",
    "    return celsius + 273.15\n",
    "\n",
    "#Input\n",
    "celsius = float(input(\"Introduce la temperatura en Celsius: \"))\n",
    "\n",
    "#Canvi de temperatura\n",
    "fahrenheit = celsius_a_fahrenheit(celsius)\n",
    "kelvin = celsius_a_kelvin(celsius)\n",
    "\n",
    "#Output\n",
    "print(f\"{celsius} °C es igual a {fahrenheit:.2f} °F\")\n",
    "print(f\"{celsius} °C es igual a {kelvin:.2f} K\")\n"
   ]
  },
  {
   "cell_type": "code",
   "execution_count": 4,
   "metadata": {},
   "outputs": [
    {
     "name": "stdout",
     "output_type": "stream",
     "text": [
      "La paraula 'hola' apareix 1 vegades.\n",
      "La paraula 'me' apareix 1 vegades.\n",
      "La paraula 'llamo' apareix 1 vegades.\n",
      "La paraula 'laura' apareix 2 vegades.\n",
      "La paraula 'y' apareix 2 vegades.\n",
      "La paraula 'tengo' apareix 1 vegades.\n",
      "La paraula 'amigas' apareix 1 vegades.\n",
      "La paraula 'amigos' apareix 1 vegades.\n",
      "La paraula 'que' apareix 1 vegades.\n",
      "La paraula 'se' apareix 1 vegades.\n",
      "La paraula 'llaman' apareix 1 vegades.\n"
     ]
    }
   ],
   "source": [
    "#Exercici 3\n",
    "#Definició funció\n",
    "def comptar_paraules(text):\n",
    "                     \n",
    "    #HO canvio a minuscules per a que no em doni futurs problemes\n",
    "    text = text.lower()\n",
    "\n",
    "    #Divisió text a paraules\n",
    "    paraules = text.split()\n",
    "\n",
    "    #Diccionari nou\n",
    "    comptador = {}\n",
    "\n",
    "    #Recompte\n",
    "    for paraula in paraules:\n",
    "        if paraula in comptador:\n",
    "            comptador[paraula] += 1\n",
    "        else:\n",
    "            comptador[paraula] = 1\n",
    "\n",
    "    #Output\n",
    "    for paraula, compte in comptador.items():\n",
    "        print(f\"La paraula '{paraula}' apareix {compte} vegades.\")\n",
    "\n",
    "#Input\n",
    "text = input(\"Introdueix el text: \")\n",
    "\n",
    "#Print\n",
    "comptar_paraules(text)\n"
   ]
  },
  {
   "cell_type": "code",
   "execution_count": 3,
   "metadata": {},
   "outputs": [
    {
     "name": "stdout",
     "output_type": "stream",
     "text": [
      "Advertiment: Els valors no són únics.\n"
     ]
    }
   ],
   "source": [
    "#Exercici 4\n",
    " #Funció diccionari invertida\n",
    "def reverse_diccionari(diccionari):\n",
    "\n",
    "    #Diccionari nou\n",
    "    diccionari_invertit = {}\n",
    "    \n",
    "    #Output\n",
    "    for clau, valor in diccionari.items():\n",
    "        if valor in diccionari_invertit:\n",
    "            print(\"Advertiment: Els valors no són únics.\")\n",
    "            return None\n",
    "        diccionari_invertit[valor] = clau\n",
    "\n",
    "    return diccionari_invertit\n",
    "\n",
    "#Diccionari original\n",
    "diccionari1 = {\n",
    "    \"azul\": \"blue\",\n",
    "    \"rojo\": \"red\",\n",
    "    \"negro\": \"black\",\n",
    "    \"blanco\": \"red\"\n",
    "}\n",
    "\n",
    "#Inverteixo diccionari\n",
    "diccionari_invertit = reverse_diccionari(diccionari1)\n",
    "\n",
    "#Output\n",
    "if diccionari_invertit:\n",
    "    print(\"Diccionari invertit:\", diccionari_invertit)"
   ]
  }
 ],
 "metadata": {
  "kernelspec": {
   "display_name": "Python 3",
   "language": "python",
   "name": "python3"
  },
  "language_info": {
   "codemirror_mode": {
    "name": "ipython",
    "version": 3
   },
   "file_extension": ".py",
   "mimetype": "text/x-python",
   "name": "python",
   "nbconvert_exporter": "python",
   "pygments_lexer": "ipython3",
   "version": "3.12.4"
  }
 },
 "nbformat": 4,
 "nbformat_minor": 2
}
