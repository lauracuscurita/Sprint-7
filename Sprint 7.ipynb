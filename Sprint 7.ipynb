{
 "cells": [
  {
   "cell_type": "code",
   "execution_count": 1,
   "metadata": {},
   "outputs": [
    {
     "name": "stdout",
     "output_type": "stream",
     "text": [
      "Tu IMC es:  0.00\n"
     ]
    }
   ],
   "source": [
    "#Exercici 1\n",
    "\n",
    "#Input\n",
    "peso = float(input(\"Introduce tu peso en kilos: \"))             #Defineixo que la variable pes serà introduida per l'usuari en kilograms . La tipologia de la variable es float, ja que es de tipus decimal.\n",
    "altura = float(input(\"Introduce tu altura en metros: \"))        #Defineixo que l'altura també ve donada per l'usuari en metres. La tipologia de la variable es float, ja que es de tipus decimal.\n",
    "\n",
    "#Formula\n",
    "imc = peso / (altura ** 2)                                      #Per a la variable imc, introdueixo la formula \n",
    "\n",
    "#Output\n",
    "print(f\"Tu IMC es: {imc: .2f}\")                                 #El output serà el resultat de la formula arrodonida a dos decimals per a no fer-ho massa extens.\n",
    "\n"
   ]
  },
  {
   "cell_type": "code",
   "execution_count": 2,
   "metadata": {},
   "outputs": [
    {
     "name": "stdout",
     "output_type": "stream",
     "text": [
      "41.0 °C es igual a 105.80 °F\n",
      "41.0 °C es igual a 314.15 K\n"
     ]
    }
   ],
   "source": [
    "#Exercici 2\n",
    "\n",
    "#Definició funcions . Per a cada funció, ens torna el resultat de la conversió de temperatures, ja sigui de celsius a fahrenheit o de celsius a kelvin. \n",
    "\n",
    "def celsius_a_fahrenheit(celsius):\n",
    "    return (celsius * 9/5) + 32\n",
    "\n",
    "def celsius_a_kelvin(celsius):\n",
    "    return celsius + 273.15\n",
    "\n",
    "#Input . # Aqui , demano a l'usuari que introdueixi la temperatura celsius, i el codi converteix les dades introduixes a tipus decimal (float)\n",
    "celsius = float(input(\"Introduce la temperatura en Celsius: \"))\n",
    "\n",
    "#Canvi de temperatura. Per a obtenir les variables, se lis asigna acada una la conversió descrita previament. \n",
    "fahrenheit = celsius_a_fahrenheit(celsius)\n",
    "kelvin = celsius_a_kelvin(celsius)\n",
    "\n",
    "#Output . El output sera el resultat de la conversió i l'assignació, arodnit a dos decimals per a no fer-ho massa extens.\n",
    "print(f\"{celsius} °C es igual a {fahrenheit:.2f} °F\")\n",
    "print(f\"{celsius} °C es igual a {kelvin:.2f} K\")\n"
   ]
  },
  {
   "cell_type": "code",
   "execution_count": 4,
   "metadata": {},
   "outputs": [
    {
     "name": "stdout",
     "output_type": "stream",
     "text": [
      "La paraula 'hola' apareix 1 vegades.\n",
      "La paraula 'me' apareix 1 vegades.\n",
      "La paraula 'llamo' apareix 1 vegades.\n",
      "La paraula 'laura' apareix 2 vegades.\n",
      "La paraula 'y' apareix 2 vegades.\n",
      "La paraula 'tengo' apareix 1 vegades.\n",
      "La paraula 'amigas' apareix 1 vegades.\n",
      "La paraula 'amigos' apareix 1 vegades.\n",
      "La paraula 'que' apareix 1 vegades.\n",
      "La paraula 'se' apareix 1 vegades.\n",
      "La paraula 'llaman' apareix 1 vegades.\n"
     ]
    }
   ],
   "source": [
    "#Exercici 3\n",
    "#Definició funció . La funció estara en format text, ja que estic demanan que introdueixin un text.\n",
    "def comptar_paraules(text):  \n",
    "                     \n",
    "    #Ho canvio a minuscules per a que no em doni futurs problemes\n",
    "    text = text.lower()\n",
    "\n",
    "    #Divisió text a paraules\n",
    "    paraules = text.split()\n",
    "\n",
    "    #Diccionari creat nou buit\n",
    "    comptador = {}\n",
    "\n",
    "    #Recompte : si la paraula que recompte esta en el diccionari, incrementa el seu valor en 1 (+=1), mentre que si la paraula no esta en el diccionari, la agrega amb un valor inciial de 1 (=1).\n",
    "    for paraula in paraules:\n",
    "        if paraula in comptador:\n",
    "            comptador[paraula] += 1\n",
    "        else:\n",
    "            comptador[paraula] = 1\n",
    "\n",
    "    #Output \n",
    "    for paraula, compte in comptador.items():\n",
    "        print(f\"La paraula '{paraula}' apareix {compte} vegades.\")\n",
    "\n",
    "#Input\n",
    "text = input(\"Introdueix el text: \")\n",
    "\n",
    "#Print\n",
    "comptar_paraules(text)\n"
   ]
  },
  {
   "cell_type": "code",
   "execution_count": 2,
   "metadata": {},
   "outputs": [
    {
     "name": "stdout",
     "output_type": "stream",
     "text": [
      "Diccionari invertit: {'blue': 'azul', 'red': 'rojo', 'black': 'negro', 'white': 'blanco'}\n"
     ]
    }
   ],
   "source": [
    "#Exercici 4\n",
    " #Defineixo funció del diccionari invertit\n",
    "def reverse_diccionari(diccionari):\n",
    "\n",
    "    #Diccionari nou i buit\n",
    "    diccionari_invertit = {}\n",
    "    \n",
    "    #Output . Es fa servir el bucle for per a llegir cada paraula en el diccionari. Introdueixo una condicio per a assegurarme de que la paraula no esta repetida en el diccionari.\n",
    "    # Per aixo, si el valor esta repetit, es mostrara un missatge d'advertencia, dient que els valors no son unics. Si el valor no es repeteix, s'aagina el valor com a clau en el diccionari.\n",
    "    for clau, valor in diccionari.items():\n",
    "        if valor in diccionari_invertit:\n",
    "            print(\"Advertiment: Els valors no són únics.\")\n",
    "            return None\n",
    "        diccionari_invertit[valor] = clau\n",
    "\n",
    "    return diccionari_invertit\n",
    "\n",
    "#Diccionari original \n",
    "diccionari1 = {\n",
    "    \"azul\": \"blue\",\n",
    "    \"rojo\": \"red\",\n",
    "    \"negro\": \"black\",\n",
    "    \"blanco\": \"white\"\n",
    "}\n",
    "\n",
    "#Inverteixo diccionari\n",
    "diccionari_invertit = reverse_diccionari(diccionari1)\n",
    "\n",
    "#Output\n",
    "if diccionari_invertit:\n",
    "    print(\"Diccionari invertit:\", diccionari_invertit)"
   ]
  }
 ],
 "metadata": {
  "kernelspec": {
   "display_name": "Python 3",
   "language": "python",
   "name": "python3"
  },
  "language_info": {
   "codemirror_mode": {
    "name": "ipython",
    "version": 3
   },
   "file_extension": ".py",
   "mimetype": "text/x-python",
   "name": "python",
   "nbconvert_exporter": "python",
   "pygments_lexer": "ipython3",
   "version": "3.12.4"
  }
 },
 "nbformat": 4,
 "nbformat_minor": 2
}
