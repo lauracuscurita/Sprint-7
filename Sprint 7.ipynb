{
 "cells": [
  {
   "cell_type": "markdown",
   "metadata": {},
   "source": [
    "NIVELL 1\n",
    "\n",
    "EXERCICI 1 : Calculadora de l'índex de massa corporal\n",
    "\n",
    "Escriu una funció que calculi l'IMC ingressat per l'usuari/ària, és a dir, qui ho executi haurà d'ingressar aquestes dades. Pots obtenir més informació del seu càlcul en:\n",
    "La funció ha de classificar el resultat en les seves respectives categories"
   ]
  },
  {
   "cell_type": "code",
   "execution_count": 4,
   "metadata": {},
   "outputs": [
    {
     "name": "stdout",
     "output_type": "stream",
     "text": [
      "Tu IMC es: 23.01\n"
     ]
    }
   ],
   "source": [
    "def calcul_imc(peso, altura):                               # Defineixo la funció per a calcular l'IMC\n",
    "   \n",
    "    imc = peso / (altura ** 2)                              # Càlcul del IMC amb la fórmula\n",
    "    return imc\n",
    "\n",
    "\n",
    "peso = float(input(\"Introduce tu peso en kilos: \"))         # Input\n",
    "altura = float(input(\"Introduce tu altura en metros con decimales: \"))\n",
    "\n",
    "resultado_imc = calcul_imc(peso, altura)                    # Crido a la funció per a utilitzar-la\n",
    "\n",
    "print(f\"Tu IMC es: {resultado_imc:.2f}\")                    # Output\n"
   ]
  },
  {
   "cell_type": "markdown",
   "metadata": {},
   "source": [
    "EXERCICI 2 : Convertidor de temperatures.\n",
    "\n",
    "Existeixen diverses unitats de temperatura utilitzades en diferents contextos i regions. Les més comunes són Celsius (°C), Fahrenheit (°F) i Kelvin (K). També existeixen altres unitats com Rankine (°Ra) i Réaumur (°Re). Selecciona almenys 2 conversors, de tal manera que en introduir una temperatura retorni, com a mínim, dues conversions."
   ]
  },
  {
   "cell_type": "code",
   "execution_count": 5,
   "metadata": {},
   "outputs": [
    {
     "name": "stdout",
     "output_type": "stream",
     "text": [
      "42.0 °C és igual a 107.60 °F\n",
      "42.0 °C és igual a 315.15 K\n"
     ]
    }
   ],
   "source": [
    "def celsius_a_fahrenheit(celsius):                                       # Funció per a convertir a fahrenheit\n",
    "    return (celsius * 9/5) + 32\n",
    "\n",
    "def celsius_a_kelvin(celsius):                                           # Funció per a convertir a kelvin\n",
    "    return celsius + 273.15\n",
    "\n",
    "\n",
    "def obtencio_dades():                                                    # Funció per a obtenir el input de l'usuari\n",
    "    return float(input(\"Introdueix la temperatura en Celsius: \"))\n",
    "\n",
    "\n",
    "def convertir_temperatures():                                            # Función principal \n",
    "    \n",
    "    celsius = obtencio_dades()                                           # Pas 1: cridem a la funció que agafa l'input\n",
    "\n",
    "   \n",
    "    fahrenheit = celsius_a_fahrenheit(celsius)                           # Pas 2 : Conversions\n",
    "    kelvin = celsius_a_kelvin(celsius)\n",
    "\n",
    "   \n",
    "    print(f\"{celsius} °C és igual a {fahrenheit:.2f} °F\")                # Pas 3 :Output\n",
    "    print(f\"{celsius} °C és igual a {kelvin:.2f} K\")\n",
    "\n",
    "\n",
    "convertir_temperatures()                                                 # Cridar a la funció\n"
   ]
  },
  {
   "cell_type": "markdown",
   "metadata": {},
   "source": [
    "EXERCICI 3 : Comptador de paraules d'un text.\n",
    "\n",
    "Escriu una funció que donat un text, mostri les vegades que apareix cada paraula."
   ]
  },
  {
   "cell_type": "code",
   "execution_count": 7,
   "metadata": {},
   "outputs": [
    {
     "name": "stdout",
     "output_type": "stream",
     "text": [
      "La paraula 'hola' apareix 3 vegades.\n",
      "La paraula 'laura' apareix 1 vegades.\n",
      "La paraula 'si' apareix 1 vegades.\n",
      "La paraula 'gho' apareix 1 vegades.\n"
     ]
    }
   ],
   "source": [
    "from collections import Counter\n",
    "\n",
    "def obtenir_text():                             # Funció per al input\n",
    "    return input(\"Introdueix el text: \")\n",
    "\n",
    "\n",
    "def netejar_text(text):                         # Funció per netejar el text, és a dir, tenir-lo en minuscules i dividir el text per paraules per a evitar possibles errors\n",
    "    text = text.lower()           \n",
    "    paraules = text.split()       \n",
    "    return paraules\n",
    "\n",
    "\n",
    "def comptar_paraules(paraules):                 # Defineixo la funció del conteig\n",
    "    return Counter(paraules)                    # Faig servir la colleció counter\n",
    "\n",
    "def imprimir_resultats(comptador):              # Funció del output\n",
    "    for paraula, compte in comptador.items():\n",
    "        print(f\"La paraula '{paraula}' apareix {compte} vegades.\")\n",
    "\n",
    "def fun_principal():                            # Funció principal\n",
    "    text = obtenir_text()                       # Crido a la funció del input\n",
    "    paraules = netejar_text(text)               # Crido a la funció de netejar\n",
    "    comptador = comptar_paraules(paraules)      # Crido a la funció del conteig\n",
    "    imprimir_resultats(comptador)               # Crido a la funció del output\n",
    "\n",
    "\n",
    "fun_principal()                                 # Crido a la funció per a utilitzar-la\n"
   ]
  },
  {
   "cell_type": "markdown",
   "metadata": {},
   "source": [
    "EXERCICI 4 : Diccionari invers.\n",
    "\n",
    "Resulta que el client té una enquesta molt antiga que s'emmagatzema en un diccionari i els resultats els necessita al revés, és a dir, intercanviats les claus i els valors. Els valors i claus en el diccionari original són únics; si aquest no és el cas, la funció hauria d'imprimir un missatge d'advertiment."
   ]
  },
  {
   "cell_type": "code",
   "execution_count": 2,
   "metadata": {},
   "outputs": [
    {
     "name": "stdout",
     "output_type": "stream",
     "text": [
      "Diccionari invertit: {'blue': 'azul', 'red': 'rojo', 'black': 'negro', 'white': 'blanco'}\n"
     ]
    }
   ],
   "source": [
    "#Exercici 4\n",
    " #Defineixo funció del diccionari invertit\n",
    "def reverse_diccionari(diccionari):\n",
    "\n",
    "    #Diccionari nou i buit\n",
    "    diccionari_invertit = {}\n",
    "    \n",
    "    #Output . Es fa servir el bucle for per a llegir cada paraula en el diccionari. Introdueixo una condicio per a assegurarme de que la paraula no esta repetida en el diccionari.\n",
    "    # Per aixo, si el valor esta repetit, es mostrara un missatge d'advertencia, dient que els valors no son unics. Si el valor no es repeteix, s'aagina el valor com a clau en el diccionari.\n",
    "    for clau, valor in diccionari.items():\n",
    "        if valor in diccionari_invertit:\n",
    "            print(\"Advertiment: Els valors no són únics.\")\n",
    "            return None\n",
    "        diccionari_invertit[valor] = clau\n",
    "\n",
    "    return diccionari_invertit\n",
    "\n",
    "#Diccionari original \n",
    "diccionari1 = {\n",
    "    \"azul\": \"blue\",\n",
    "    \"rojo\": \"red\",\n",
    "    \"negro\": \"black\",\n",
    "    \"blanco\": \"white\"\n",
    "}\n",
    "\n",
    "#Inverteixo diccionari\n",
    "diccionari_invertit = reverse_diccionari(diccionari1)\n",
    "\n",
    "#Output\n",
    "if diccionari_invertit:\n",
    "    print(\"Diccionari invertit:\", diccionari_invertit)"
   ]
  }
 ],
 "metadata": {
  "kernelspec": {
   "display_name": "Python 3",
   "language": "python",
   "name": "python3"
  },
  "language_info": {
   "codemirror_mode": {
    "name": "ipython",
    "version": 3
   },
   "file_extension": ".py",
   "mimetype": "text/x-python",
   "name": "python",
   "nbconvert_exporter": "python",
   "pygments_lexer": "ipython3",
   "version": "3.12.5"
  }
 },
 "nbformat": 4,
 "nbformat_minor": 2
}
